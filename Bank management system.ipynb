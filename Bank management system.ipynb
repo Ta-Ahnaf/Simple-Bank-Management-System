{
 "cells": [
  {
   "cell_type": "code",
   "execution_count": null,
   "id": "9434be25-ccec-4b6e-bb44-636482d3b4d3",
   "metadata": {},
   "outputs": [
    {
     "name": "stdout",
     "output_type": "stream",
     "text": [
      "\n",
      "Welcome to CIT Bank\n",
      "1. Create New Account\n",
      "2. Login to Existing Account\n",
      "3. Exit\n"
     ]
    },
    {
     "name": "stdin",
     "output_type": "stream",
     "text": [
      "Choose option:  1\n",
      "Enter a new username:  A\n"
     ]
    },
    {
     "name": "stdout",
     "output_type": "stream",
     "text": [
      "Username already exists.\n",
      "\n",
      "Welcome to CIT Bank\n",
      "1. Create New Account\n",
      "2. Login to Existing Account\n",
      "3. Exit\n"
     ]
    },
    {
     "name": "stdin",
     "output_type": "stream",
     "text": [
      "Choose option:  2\n"
     ]
    },
    {
     "name": "stdout",
     "output_type": "stream",
     "text": [
      "Available accounts: A B C D E F G H I J\n"
     ]
    },
    {
     "name": "stdin",
     "output_type": "stream",
     "text": [
      "Enter your username:  J\n"
     ]
    },
    {
     "name": "stdout",
     "output_type": "stream",
     "text": [
      "Login successful\n",
      "What do you want to do?\n",
      "1. Deposit\n",
      "2. Withdraw\n",
      "3. Check Balance\n",
      "4. Logout\n"
     ]
    },
    {
     "name": "stdin",
     "output_type": "stream",
     "text": [
      "Choose option:  3\n"
     ]
    },
    {
     "name": "stdout",
     "output_type": "stream",
     "text": [
      "Your balance is: 575 Taka\n",
      "What do you want to do?\n",
      "1. Deposit\n",
      "2. Withdraw\n",
      "3. Check Balance\n",
      "4. Logout\n"
     ]
    },
    {
     "name": "stdin",
     "output_type": "stream",
     "text": [
      "Choose option:  2\n",
      "How much you want to withdraw:  575\n"
     ]
    },
    {
     "name": "stdout",
     "output_type": "stream",
     "text": [
      "New balance: 0 Taka\n",
      "Withdraw more? (Y/N)\n"
     ]
    },
    {
     "name": "stdin",
     "output_type": "stream",
     "text": [
      " J\n"
     ]
    },
    {
     "name": "stdout",
     "output_type": "stream",
     "text": [
      "What do you want to do?\n",
      "1. Deposit\n",
      "2. Withdraw\n",
      "3. Check Balance\n",
      "4. Logout\n"
     ]
    }
   ],
   "source": [
    "def Bank():\n",
    "   #All the previous accounts and balance is stored here\n",
    "    accounts = {\n",
    "        \"A\": 512,\n",
    "        \"B\": 783,\n",
    "        \"C\": 649,\n",
    "        \"D\": 401,\n",
    "        \"E\": 932,\n",
    "        \"F\": 710,\n",
    "        \"G\": 388,\n",
    "        \"H\": 860,\n",
    "        \"I\": 299,\n",
    "        \"J\": 512\n",
    "    } \n",
    "\n",
    "    #this keeps the loop running and shows this three options until the loop is broken\n",
    "    while True:\n",
    "        print(\"\\nWelcome to CIT Bank\")\n",
    "        print(\"1. Create a New Account\")\n",
    "        print(\"2. Login to Existing Account\")\n",
    "        print(\"3. Exit\")\n",
    "        choice = input(\"Choose option: \")\n",
    "\n",
    "        #this part creates a new user name and add money and stores in accounts\n",
    "        if choice == \"1\":\n",
    "            new_user = input(\"Enter a new username: \")\n",
    "            if new_user in accounts:\n",
    "                print(\"Username already exists.\")\n",
    "            else:\n",
    "                while True:\n",
    "                    try:\n",
    "                        new_balance = int(input(\"Enter initial deposit (min 100): \"))\n",
    "                        if new_balance >= 100:\n",
    "                            accounts[new_user] = new_balance\n",
    "                            print(\"Account created successfully with balance:\", new_balance, \"Taka\")\n",
    "                            break\n",
    "                        else:\n",
    "                            print(\"Minimum deposit should be 100\")\n",
    "                    except:\n",
    "                        print(\"Enter a valid number\")\n",
    "\n",
    "        #this part shows available accounts\n",
    "        elif choice == \"2\":\n",
    "            print(\"Available accounts:\", *accounts)\n",
    "            user = input(\"Enter your username: \")\n",
    "            if user in accounts:\n",
    "                print(\"Login successful!\")\n",
    "             #After creating or confirming that you have an account it asks you for basic operations\n",
    "\n",
    "                while True:\n",
    "                    print(\"What do you want to do?\")\n",
    "                    print(\"1. Deposit\")\n",
    "                    print(\"2. Withdraw\")\n",
    "                    print(\"3. Check Balance\")\n",
    "                    print(\"4. Logout\")\n",
    "                    action = input(\"Choose option: \")\n",
    "\n",
    "                    #depostie that adds money to accounts value\n",
    "                    if action == \"1\":\n",
    "                        while True:\n",
    "                            dep = int(input(\"How much you want to deposit: \"))\n",
    "                            accounts[user] += dep\n",
    "                            print(\"New balance:\", accounts[user], \"Taka\")\n",
    "                            print(\"Deposit more? (Y/N)\")\n",
    "                            if input().upper() != \"Y\":\n",
    "                                break\n",
    "# removes money from accounts value\n",
    "                    elif action == \"2\":\n",
    "                        while True:\n",
    "                            wd = int(input(\"How much you want to withdraw: \"))\n",
    "                            if wd > accounts[user]:\n",
    "                                print(\"Not enough balance\")\n",
    "                            else:\n",
    "                                accounts[user] -= wd\n",
    "                                print(\"New balance:\", accounts[user], \"Taka\")\n",
    "                            print(\"Withdraw more? (Y/N)\")\n",
    "                            if input().upper() != \"Y\":\n",
    "                                break\n",
    "#shows the accounts value\n",
    "                    elif action == \"3\":\n",
    "                        print(\"Your balance is:\", accounts[user], \"Taka\")\n",
    "# goes to the first page \n",
    "                    elif action == \"4\":\n",
    "                        print(\"Logged out\")\n",
    "                        break\n",
    "\n",
    "                    else:\n",
    "                        print(\"Invalid option\")\n",
    "            else:\n",
    "                print(\"No such account found.\")\n",
    "\n",
    "        elif choice == \"3\":\n",
    "            print(\"Thanks for using CIT Bank!\")\n",
    "            break\n",
    "\n",
    "        else:\n",
    "            print(\"Invalid input. Try again.\")\n",
    "\n",
    "Bank()\n"
   ]
  },
  {
   "cell_type": "code",
   "execution_count": null,
   "id": "4b197e0c-6f12-4759-b88c-a86c6cea4ab8",
   "metadata": {},
   "outputs": [],
   "source": []
  }
 ],
 "metadata": {
  "kernelspec": {
   "display_name": "Python 3 (ipykernel)",
   "language": "python",
   "name": "python3"
  },
  "language_info": {
   "codemirror_mode": {
    "name": "ipython",
    "version": 3
   },
   "file_extension": ".py",
   "mimetype": "text/x-python",
   "name": "python",
   "nbconvert_exporter": "python",
   "pygments_lexer": "ipython3",
   "version": "3.12.9"
  }
 },
 "nbformat": 4,
 "nbformat_minor": 5
}
